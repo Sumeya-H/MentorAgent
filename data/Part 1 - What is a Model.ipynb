{
 "cells": [
  {
   "cell_type": "markdown",
   "id": "4418c58c-d278-4537-a35f-2c6474555453",
   "metadata": {},
   "source": [
    "# **Level 1: The Origins — Intro to LLMs & Chatbots**"
   ]
  },
  {
   "cell_type": "markdown",
   "id": "f94b915c-b613-4470-ae21-411ca37f9ca4",
   "metadata": {},
   "source": [
    "## **Section 1: Fundamentals of AI Models**\n",
    "\n",
    "---"
   ]
  },
  {
   "cell_type": "markdown",
   "id": "c5a9f2f8-bf12-4350-9521-9d51cdcd7668",
   "metadata": {},
   "source": [
    "# Part 1: What is a Model?"
   ]
  },
  {
   "cell_type": "markdown",
   "id": "2d08191f-83d5-4a11-9e71-4fd66762c117",
   "metadata": {
    "jp-MarkdownHeadingCollapsed": true
   },
   "source": [
    "\n",
    "\n",
    "If you’ve ever used Google Translate, asked ChatGPT a question, or seen AI label objects in a photo — you’ve interacted with a **model**. But what exactly is a model?\n",
    "\n",
    "At its core, a **model** is simply a tool that helps computers make decisions or predictions based on data.\n",
    "\n",
    "Let’s break this down with an everyday example.\n",
    "\n",
    "---\n",
    "\n",
    "## Imagine Teaching a Child to Recognize Animals.\n",
    "\n",
    "Suppose you show a child pictures of animals and tell them:  \n",
    "\n",
    "* This is a **dog**\n",
    "* This is a **cat**\n",
    "* This is a **horse**\n",
    "\n",
    "After seeing enough examples, the child starts noticing patterns:\n",
    "\n",
    "* Dogs often have floppy ears, fur, and certain shapes.\n",
    "* Cats have whiskers and smaller faces.\n",
    "* Horses are bigger, with long legs and manes.\n",
    "\n",
    "Eventually, even when shown a new picture they’ve never seen, the child can say, “That’s a dog” or “That’s a horse.”\n",
    "\n",
    "A **model** works similarly — but it’s the computer that learns those patterns from data.\n",
    "\n",
    "---\n",
    "\n",
    "## Formal Definition (In Simple Words)\n",
    "\n",
    "A **model** is a mathematical structure trained on examples to recognize patterns and make predictions.\n",
    "\n",
    "It doesn’t \"understand\" like humans do, but it can process numbers, detect relationships, and give outputs based on what it has learned.\n",
    "\n",
    "In AI, models can do things like:\n",
    "\n",
    "* Recognize images\n",
    "* Translate languages\n",
    "* Generate text\n",
    "* Predict prices\n",
    "* Detect spam emails\n",
    "\n",
    "---\n",
    "\n",
    "## Another Way to Think About It: A Recipe for Decisions\n",
    "\n",
    "A model is like a recipe.\n",
    "\n",
    "Imagine you're baking bread. The recipe tells you:\n",
    "\n",
    "* How much flour to use\n",
    "* When to knead the dough\n",
    "* How long to bake it\n",
    "\n",
    "You follow the recipe, and out comes bread.\n",
    "\n",
    "Similarly, a model takes **inputs** (data), follows a learned \"recipe\" (mathematical rules), and produces **outputs** (predictions or decisions).\n",
    "\n",
    "---\n",
    "\n",
    "## Types of AI Models\n",
    "\n",
    "While models come in many forms, in AI we often hear about:\n",
    "\n",
    "1. **Simple Models** — Like a basic calculator making decisions (e.g., \"If age > 18, allow access\").\n",
    "2. **Machine Learning Models** — They learn from data instead of being explicitly programmed.\n",
    "3. **Neural Networks** — Inspired by how human brains work, made up of layers of tiny decision-makers.\n",
    "4. **Large Language Models (LLMs)** — Very large neural networks trained on vast amounts of text to generate or understand language.\n",
    "\n",
    "We’ll build up to understanding neural networks and LLMs shortly.\n",
    "\n",
    "---\n",
    "\n",
    "## So, When You Hear “Model” in AI…\n",
    "\n",
    "Think:\n",
    "\n",
    "* It’s not magic.\n",
    "* It’s a system that has learned patterns from lots of examples.\n",
    "* It applies those patterns to new situations to give useful outputs.\n",
    "\n",
    "In AI, models are the engine that makes intelligent behavior possible.\n",
    "\n",
    "---\n",
    "\n",
    "**Next**, we’ll peel back the curtain and explore how models like neural networks actually process information — how they \"learn\" and make predictions.\n"
   ]
  },
  {
   "cell_type": "code",
   "execution_count": null,
   "id": "a5969647-cfc7-4558-b48c-ba3b61c6b8c1",
   "metadata": {},
   "outputs": [],
   "source": []
  }
 ],
 "metadata": {
  "kernelspec": {
   "display_name": "Python 3 (ipykernel)",
   "language": "python",
   "name": "python3"
  },
  "language_info": {
   "codemirror_mode": {
    "name": "ipython",
    "version": 3
   },
   "file_extension": ".py",
   "mimetype": "text/x-python",
   "name": "python",
   "nbconvert_exporter": "python",
   "pygments_lexer": "ipython3",
   "version": "3.10.12"
  }
 },
 "nbformat": 4,
 "nbformat_minor": 5
}
